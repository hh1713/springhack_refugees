{
 "cells": [
  {
   "cell_type": "code",
   "execution_count": 1,
   "metadata": {
    "collapsed": true
   },
   "outputs": [],
   "source": [
    "import pandas as pd\n",
    "import geopandas as gpd"
   ]
  },
  {
   "cell_type": "code",
   "execution_count": 7,
   "metadata": {
    "collapsed": true
   },
   "outputs": [],
   "source": [
    "def choropleth(df, column, title, cmap = 'viridis', ax=None):\n",
    "    \"\"\"\n",
    "    Function to plot a choropleth\n",
    "    \n",
    "    Output: Choropleth with a vertical color bar\n",
    "    \n",
    "    Input:\n",
    "    ---\n",
    "      df : The GeoDataFrame that holds the values to be plotted\n",
    "      column : The column of the dataframe whose values are plotted\n",
    "      title : Title of the plot\n",
    "      cmap : color map used\n",
    "    \"\"\"\n",
    "    f, ax = plt.subplots(figsize=(9,9))\n",
    "    plt.title(title, size=20)\n",
    "    ax = df.plot(column=column, colormap=cmap,alpha = 1, linewidth=0.3, scheme='fischer_jenks', axes=ax)\n",
    "    vmin, vmax = min(df[column].values), \\\n",
    "                max(df[column].values)\n",
    "    ax.axis('off')\n",
    "    fig = ax.get_figure()\n",
    "    cax = fig.add_axes([0.9, 0.1, 0.03, 0.8])\n",
    "    sm = plt.cm.ScalarMappable(cmap=cmap, norm=plt.Normalize(vmin=vmin, vmax=vmax))\n",
    "    sm._A = []\n",
    "    fig.colorbar(sm, cax=cax)"
   ]
  },
  {
   "cell_type": "code",
   "execution_count": null,
   "metadata": {
    "collapsed": true
   },
   "outputs": [],
   "source": [
    "# title = \"Business Density by Zipcodes, 2000\"\n",
    "# choropleth(zipcodeDF, 'density_2000', title, 'Blues')"
   ]
  },
  {
   "cell_type": "code",
   "execution_count": 50,
   "metadata": {
    "collapsed": false
   },
   "outputs": [
    {
     "data": {
      "text/html": [
       "<div>\n",
       "<table border=\"1\" class=\"dataframe\">\n",
       "  <thead>\n",
       "    <tr style=\"text-align: right;\">\n",
       "      <th></th>\n",
       "      <th>﻿Series Name</th>\n",
       "      <th>Series Code</th>\n",
       "      <th>Country Name</th>\n",
       "      <th>Country Code</th>\n",
       "      <th>1990 [YR1990]</th>\n",
       "      <th>2000 [YR2000]</th>\n",
       "      <th>2007 [YR2007]</th>\n",
       "      <th>2008 [YR2008]</th>\n",
       "      <th>2009 [YR2009]</th>\n",
       "      <th>2010 [YR2010]</th>\n",
       "      <th>2011 [YR2011]</th>\n",
       "      <th>2012 [YR2012]</th>\n",
       "      <th>2013 [YR2013]</th>\n",
       "      <th>2014 [YR2014]</th>\n",
       "      <th>2015 [YR2015]</th>\n",
       "      <th>2016 [YR2016]</th>\n",
       "    </tr>\n",
       "  </thead>\n",
       "  <tbody>\n",
       "    <tr>\n",
       "      <th>0</th>\n",
       "      <td>Refugee population by country or territory of ...</td>\n",
       "      <td>SM.POP.REFG</td>\n",
       "      <td>Afghanistan</td>\n",
       "      <td>AFG</td>\n",
       "      <td>50</td>\n",
       "      <td>..</td>\n",
       "      <td>42</td>\n",
       "      <td>37</td>\n",
       "      <td>37</td>\n",
       "      <td>6434</td>\n",
       "      <td>3009</td>\n",
       "      <td>16187</td>\n",
       "      <td>16863</td>\n",
       "      <td>300423</td>\n",
       "      <td>257554</td>\n",
       "      <td>..</td>\n",
       "    </tr>\n",
       "    <tr>\n",
       "      <th>1</th>\n",
       "      <td>Refugee population by country or territory of ...</td>\n",
       "      <td>SM.POP.REFG</td>\n",
       "      <td>Albania</td>\n",
       "      <td>ALB</td>\n",
       "      <td>..</td>\n",
       "      <td>523</td>\n",
       "      <td>77</td>\n",
       "      <td>65</td>\n",
       "      <td>70</td>\n",
       "      <td>76</td>\n",
       "      <td>82</td>\n",
       "      <td>86</td>\n",
       "      <td>93</td>\n",
       "      <td>104</td>\n",
       "      <td>104</td>\n",
       "      <td>..</td>\n",
       "    </tr>\n",
       "    <tr>\n",
       "      <th>2</th>\n",
       "      <td>Refugee population by country or territory of ...</td>\n",
       "      <td>SM.POP.REFG</td>\n",
       "      <td>Algeria</td>\n",
       "      <td>DZA</td>\n",
       "      <td>169110</td>\n",
       "      <td>169656</td>\n",
       "      <td>94137</td>\n",
       "      <td>94093</td>\n",
       "      <td>94137</td>\n",
       "      <td>94144</td>\n",
       "      <td>94148</td>\n",
       "      <td>94133</td>\n",
       "      <td>94150</td>\n",
       "      <td>94128</td>\n",
       "      <td>94182</td>\n",
       "      <td>..</td>\n",
       "    </tr>\n",
       "  </tbody>\n",
       "</table>\n",
       "</div>"
      ],
      "text/plain": [
       "                                        ﻿Series Name  Series Code  \\\n",
       "0  Refugee population by country or territory of ...  SM.POP.REFG   \n",
       "1  Refugee population by country or territory of ...  SM.POP.REFG   \n",
       "2  Refugee population by country or territory of ...  SM.POP.REFG   \n",
       "\n",
       "  Country Name Country Code 1990 [YR1990] 2000 [YR2000] 2007 [YR2007]  \\\n",
       "0  Afghanistan          AFG            50            ..            42   \n",
       "1      Albania          ALB            ..           523            77   \n",
       "2      Algeria          DZA        169110        169656         94137   \n",
       "\n",
       "  2008 [YR2008] 2009 [YR2009] 2010 [YR2010] 2011 [YR2011] 2012 [YR2012]  \\\n",
       "0            37            37          6434          3009         16187   \n",
       "1            65            70            76            82            86   \n",
       "2         94093         94137         94144         94148         94133   \n",
       "\n",
       "  2013 [YR2013] 2014 [YR2014] 2015 [YR2015] 2016 [YR2016]  \n",
       "0         16863        300423        257554            ..  \n",
       "1            93           104           104            ..  \n",
       "2         94150         94128         94182            ..  "
      ]
     },
     "execution_count": 50,
     "metadata": {},
     "output_type": "execute_result"
    }
   ],
   "source": [
    "refugee_data = pd.read_csv('./Data/ref_country_of_Asylum/18f4ebc1-6751-4d6f-b1c5-28a830b148f9_Data.csv')\n",
    "refugee_data.head(3)"
   ]
  },
  {
   "cell_type": "code",
   "execution_count": 51,
   "metadata": {
    "collapsed": false
   },
   "outputs": [
    {
     "data": {
      "text/html": [
       "<div>\n",
       "<table border=\"1\" class=\"dataframe\">\n",
       "  <thead>\n",
       "    <tr style=\"text-align: right;\">\n",
       "      <th></th>\n",
       "      <th>﻿Series Name</th>\n",
       "      <th>Series Code</th>\n",
       "      <th>Country Name</th>\n",
       "      <th>Country Code</th>\n",
       "      <th>1990 [YR1990]</th>\n",
       "      <th>2000 [YR2000]</th>\n",
       "      <th>2007 [YR2007]</th>\n",
       "      <th>2008 [YR2008]</th>\n",
       "      <th>2009 [YR2009]</th>\n",
       "      <th>2010 [YR2010]</th>\n",
       "      <th>2011 [YR2011]</th>\n",
       "      <th>2012 [YR2012]</th>\n",
       "      <th>2013 [YR2013]</th>\n",
       "      <th>2014 [YR2014]</th>\n",
       "      <th>2015 [YR2015]</th>\n",
       "      <th>2016 [YR2016]</th>\n",
       "    </tr>\n",
       "  </thead>\n",
       "  <tbody>\n",
       "    <tr>\n",
       "      <th>0</th>\n",
       "      <td>Population, total</td>\n",
       "      <td>SP.POP.TOTL</td>\n",
       "      <td>Afghanistan</td>\n",
       "      <td>AFG</td>\n",
       "      <td>12067570</td>\n",
       "      <td>19701940.0</td>\n",
       "      <td>25877544.0</td>\n",
       "      <td>26528741.0</td>\n",
       "      <td>27207291.0</td>\n",
       "      <td>27962207.0</td>\n",
       "      <td>28809167.0</td>\n",
       "      <td>29726803</td>\n",
       "      <td>30682500</td>\n",
       "      <td>31627506</td>\n",
       "      <td>32526562</td>\n",
       "      <td>..</td>\n",
       "    </tr>\n",
       "    <tr>\n",
       "      <th>1</th>\n",
       "      <td>Population, total</td>\n",
       "      <td>SP.POP.TOTL</td>\n",
       "      <td>Albania</td>\n",
       "      <td>ALB</td>\n",
       "      <td>3286542</td>\n",
       "      <td>3089027.0</td>\n",
       "      <td>2970017.0</td>\n",
       "      <td>2947314.0</td>\n",
       "      <td>2927519.0</td>\n",
       "      <td>2913021.0</td>\n",
       "      <td>2904780.0</td>\n",
       "      <td>2900247</td>\n",
       "      <td>2896652</td>\n",
       "      <td>2893654</td>\n",
       "      <td>2889167</td>\n",
       "      <td>..</td>\n",
       "    </tr>\n",
       "    <tr>\n",
       "      <th>2</th>\n",
       "      <td>Population, total</td>\n",
       "      <td>SP.POP.TOTL</td>\n",
       "      <td>Algeria</td>\n",
       "      <td>DZA</td>\n",
       "      <td>25912364</td>\n",
       "      <td>31183658.0</td>\n",
       "      <td>34261971.0</td>\n",
       "      <td>34811059.0</td>\n",
       "      <td>35401790.0</td>\n",
       "      <td>36036159.0</td>\n",
       "      <td>36717132.0</td>\n",
       "      <td>37439427</td>\n",
       "      <td>38186135</td>\n",
       "      <td>38934334</td>\n",
       "      <td>39666519</td>\n",
       "      <td>..</td>\n",
       "    </tr>\n",
       "  </tbody>\n",
       "</table>\n",
       "</div>"
      ],
      "text/plain": [
       "        ﻿Series Name  Series Code Country Name Country Code 1990 [YR1990]  \\\n",
       "0  Population, total  SP.POP.TOTL  Afghanistan          AFG      12067570   \n",
       "1  Population, total  SP.POP.TOTL      Albania          ALB       3286542   \n",
       "2  Population, total  SP.POP.TOTL      Algeria          DZA      25912364   \n",
       "\n",
       "   2000 [YR2000]  2007 [YR2007]  2008 [YR2008]  2009 [YR2009]  2010 [YR2010]  \\\n",
       "0     19701940.0     25877544.0     26528741.0     27207291.0     27962207.0   \n",
       "1      3089027.0      2970017.0      2947314.0      2927519.0      2913021.0   \n",
       "2     31183658.0     34261971.0     34811059.0     35401790.0     36036159.0   \n",
       "\n",
       "   2011 [YR2011] 2012 [YR2012] 2013 [YR2013] 2014 [YR2014] 2015 [YR2015]  \\\n",
       "0     28809167.0      29726803      30682500      31627506      32526562   \n",
       "1      2904780.0       2900247       2896652       2893654       2889167   \n",
       "2     36717132.0      37439427      38186135      38934334      39666519   \n",
       "\n",
       "  2016 [YR2016]  \n",
       "0            ..  \n",
       "1            ..  \n",
       "2            ..  "
      ]
     },
     "execution_count": 51,
     "metadata": {},
     "output_type": "execute_result"
    }
   ],
   "source": [
    "population_data = pd.read_csv('./Data/world_population/28c06eca-bc68-48c5-b850-652a0893d6fe_Data.csv')\n",
    "population_data.head(3)"
   ]
  },
  {
   "cell_type": "code",
   "execution_count": 52,
   "metadata": {
    "collapsed": true
   },
   "outputs": [],
   "source": [
    "col_list_pop_2015 = ['Country Name', '2015 [YR2015]']\n",
    "pop2015 = population_data[col_list_pop_2015]"
   ]
  },
  {
   "cell_type": "code",
   "execution_count": 53,
   "metadata": {
    "collapsed": false
   },
   "outputs": [],
   "source": [
    "# renaming\n",
    "pop2015.columns = ['Country Name', '2015 population']"
   ]
  },
  {
   "cell_type": "code",
   "execution_count": 54,
   "metadata": {
    "collapsed": false
   },
   "outputs": [],
   "source": [
    "col_list_ref_2015 = ['Country Name', '2015 [YR2015]']\n",
    "ref_2015 = refugee_data[col_list_ref_2015]"
   ]
  },
  {
   "cell_type": "code",
   "execution_count": 55,
   "metadata": {
    "collapsed": false
   },
   "outputs": [],
   "source": [
    "merged_2015 = pd.merge(ref_2015, pop2015, on='Country Name', how='left')"
   ]
  },
  {
   "cell_type": "code",
   "execution_count": 56,
   "metadata": {
    "collapsed": false
   },
   "outputs": [],
   "source": [
    "# changing data from string to numerical\n",
    "merged_2015['2015 [YR2015]'] = pd.to_numeric(merged_2015['2015 [YR2015]'], errors='coerce')\n",
    "merged_2015['2015 population'] = pd.to_numeric(merged_2015['2015 population'], errors='coerce')"
   ]
  },
  {
   "cell_type": "code",
   "execution_count": 57,
   "metadata": {
    "collapsed": false,
    "scrolled": true
   },
   "outputs": [],
   "source": [
    "merged_2015['percentage'] = merged_2015['2015 [YR2015]'] / merged_2015['2015 population']"
   ]
  },
  {
   "cell_type": "code",
   "execution_count": 58,
   "metadata": {
    "collapsed": false
   },
   "outputs": [
    {
     "data": {
      "text/html": [
       "<div>\n",
       "<table border=\"1\" class=\"dataframe\">\n",
       "  <thead>\n",
       "    <tr style=\"text-align: right;\">\n",
       "      <th></th>\n",
       "      <th>Country Name</th>\n",
       "      <th>2015 [YR2015]</th>\n",
       "      <th>2015 population</th>\n",
       "      <th>percentage</th>\n",
       "    </tr>\n",
       "  </thead>\n",
       "  <tbody>\n",
       "    <tr>\n",
       "      <th>0</th>\n",
       "      <td>Afghanistan</td>\n",
       "      <td>257554.0</td>\n",
       "      <td>32526562.0</td>\n",
       "      <td>0.007918</td>\n",
       "    </tr>\n",
       "    <tr>\n",
       "      <th>1</th>\n",
       "      <td>Albania</td>\n",
       "      <td>104.0</td>\n",
       "      <td>2889167.0</td>\n",
       "      <td>0.000036</td>\n",
       "    </tr>\n",
       "    <tr>\n",
       "      <th>2</th>\n",
       "      <td>Algeria</td>\n",
       "      <td>94182.0</td>\n",
       "      <td>39666519.0</td>\n",
       "      <td>0.002374</td>\n",
       "    </tr>\n",
       "    <tr>\n",
       "      <th>3</th>\n",
       "      <td>American Samoa</td>\n",
       "      <td>NaN</td>\n",
       "      <td>55538.0</td>\n",
       "      <td>NaN</td>\n",
       "    </tr>\n",
       "    <tr>\n",
       "      <th>4</th>\n",
       "      <td>Andorra</td>\n",
       "      <td>NaN</td>\n",
       "      <td>70473.0</td>\n",
       "      <td>NaN</td>\n",
       "    </tr>\n",
       "  </tbody>\n",
       "</table>\n",
       "</div>"
      ],
      "text/plain": [
       "     Country Name  2015 [YR2015]  2015 population  percentage\n",
       "0     Afghanistan       257554.0       32526562.0    0.007918\n",
       "1         Albania          104.0        2889167.0    0.000036\n",
       "2         Algeria        94182.0       39666519.0    0.002374\n",
       "3  American Samoa            NaN          55538.0         NaN\n",
       "4         Andorra            NaN          70473.0         NaN"
      ]
     },
     "execution_count": 58,
     "metadata": {},
     "output_type": "execute_result"
    }
   ],
   "source": [
    "merged_2015.head()"
   ]
  },
  {
   "cell_type": "code",
   "execution_count": null,
   "metadata": {
    "collapsed": true
   },
   "outputs": [],
   "source": []
  }
 ],
 "metadata": {
  "anaconda-cloud": {},
  "kernelspec": {
   "display_name": "Python [Root]",
   "language": "python",
   "name": "Python [Root]"
  },
  "language_info": {
   "codemirror_mode": {
    "name": "ipython",
    "version": 2
   },
   "file_extension": ".py",
   "mimetype": "text/x-python",
   "name": "python",
   "nbconvert_exporter": "python",
   "pygments_lexer": "ipython2",
   "version": "2.7.12"
  }
 },
 "nbformat": 4,
 "nbformat_minor": 0
}
