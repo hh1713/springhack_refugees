{
 "cells": [
  {
   "cell_type": "code",
   "execution_count": 1,
   "metadata": {
    "collapsed": true
   },
   "outputs": [],
   "source": [
    "import pandas as pd\n",
    "import geopandas as gpd"
   ]
  },
  {
   "cell_type": "code",
   "execution_count": 2,
   "metadata": {
    "collapsed": true
   },
   "outputs": [],
   "source": [
    "def choropleth(df, column, title, cmap = 'viridis', ax=None):\n",
    "    \"\"\"\n",
    "    Function to plot a choropleth\n",
    "    \n",
    "    Output: Choropleth with a vertical color bar\n",
    "    \n",
    "    Input:\n",
    "    ---\n",
    "      df : The GeoDataFrame that holds the values to be plotted\n",
    "      column : The column of the dataframe whose values are plotted\n",
    "      title : Title of the plot\n",
    "      cmap : color map used\n",
    "    \"\"\"\n",
    "    f, ax = plt.subplots(figsize=(9,9))\n",
    "    plt.title(title, size=20)\n",
    "    ax = df.plot(column=column, colormap=cmap,alpha = 1, linewidth=0.3, scheme='fischer_jenks', axes=ax)\n",
    "    vmin, vmax = min(df[column].values), \\\n",
    "                max(df[column].values)\n",
    "    ax.axis('off')\n",
    "    fig = ax.get_figure()\n",
    "    cax = fig.add_axes([0.9, 0.1, 0.03, 0.8])\n",
    "    sm = plt.cm.ScalarMappable(cmap=cmap, norm=plt.Normalize(vmin=vmin, vmax=vmax))\n",
    "    sm._A = []\n",
    "    fig.colorbar(sm, cax=cax)"
   ]
  },
  {
   "cell_type": "code",
   "execution_count": null,
   "metadata": {
    "collapsed": true
   },
   "outputs": [],
   "source": [
    "title = \"Business Density by Zipcodes, 2000\"\n",
    "choropleth(zipcodeDF, 'density_2000', title, 'Blues')"
   ]
  }
 ],
 "metadata": {
  "anaconda-cloud": {},
  "kernelspec": {
   "display_name": "Python [Root]",
   "language": "python",
   "name": "Python [Root]"
  },
  "language_info": {
   "codemirror_mode": {
    "name": "ipython",
    "version": 2
   },
   "file_extension": ".py",
   "mimetype": "text/x-python",
   "name": "python",
   "nbconvert_exporter": "python",
   "pygments_lexer": "ipython2",
   "version": "2.7.12"
  }
 },
 "nbformat": 4,
 "nbformat_minor": 0
}
