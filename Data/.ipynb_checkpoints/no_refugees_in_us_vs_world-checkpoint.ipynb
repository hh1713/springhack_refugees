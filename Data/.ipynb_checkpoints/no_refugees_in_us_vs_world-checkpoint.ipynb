{
 "cells": [
  {
   "cell_type": "code",
   "execution_count": 1,
   "metadata": {
    "collapsed": true
   },
   "outputs": [],
   "source": [
    "import pandas as pd\n",
    "import geopandas as gpd\n",
    "import csv\n",
    "import os\n",
    "import sys\n",
    "import numpy as np\n",
    "import zipfile as zf"
   ]
  },
  {
   "cell_type": "code",
   "execution_count": 65,
   "metadata": {
    "collapsed": true
   },
   "outputs": [],
   "source": [
    "# worldwide refugee data: http://popstats.unhcr.org/en/time_series"
   ]
  },
  {
   "cell_type": "code",
   "execution_count": 4,
   "metadata": {
    "collapsed": false
   },
   "outputs": [
    {
     "name": "stderr",
     "output_type": "stream",
     "text": [
      "  % Total    % Received % Xferd  Average Speed   Time    Time     Time  Current\n",
      "                                 Dload  Upload   Total   Spent    Left  Speed\n",
      "\n",
      "  0     0    0     0    0     0      0      0 --:--:-- --:--:-- --:--:--     0\n",
      "  0     0    0     0    0     0      0      0 --:--:-- --:--:-- --:--:--     0\n",
      "100  106k  100  106k    0     0   219k      0 --:--:-- --:--:-- --:--:--  227k\n"
     ]
    }
   ],
   "source": [
    "!curl -O \"https://www.dhs.gov/sites/default/files/publications/YRBK%202015%20RFA%20Excel%20Final.zip\""
   ]
  },
  {
   "cell_type": "code",
   "execution_count": 5,
   "metadata": {
    "collapsed": false
   },
   "outputs": [],
   "source": [
    "ref = zf.ZipFile('YRBK%202015%20RFA%20Excel%20Final.zip', 'r')\n",
    "ref.extractall()"
   ]
  },
  {
   "cell_type": "code",
   "execution_count": 56,
   "metadata": {
    "collapsed": false
   },
   "outputs": [],
   "source": [
    "usa = pd.read_excel('YRBK 2015 RFA Excel Final/fy2015_table13.xls', skiprows=3, skip_footer=2)"
   ]
  },
  {
   "cell_type": "code",
   "execution_count": 60,
   "metadata": {
    "collapsed": false
   },
   "outputs": [],
   "source": [
    "usa.columns = ['Year', 'USA_numbers']"
   ]
  },
  {
   "cell_type": "code",
   "execution_count": 29,
   "metadata": {
    "collapsed": false
   },
   "outputs": [],
   "source": [
    "refugees = pd.read_csv('unhcr_popstats_export_time_series_2017_02_10_174728.csv', skiprows = 3)"
   ]
  },
  {
   "cell_type": "code",
   "execution_count": 30,
   "metadata": {
    "collapsed": false
   },
   "outputs": [
    {
     "data": {
      "text/html": [
       "<div>\n",
       "<table border=\"1\" class=\"dataframe\">\n",
       "  <thead>\n",
       "    <tr style=\"text-align: right;\">\n",
       "      <th></th>\n",
       "      <th>Year</th>\n",
       "      <th>Country / territory of asylum/residence</th>\n",
       "      <th>Origin</th>\n",
       "      <th>Population type</th>\n",
       "      <th>Value</th>\n",
       "    </tr>\n",
       "  </thead>\n",
       "  <tbody>\n",
       "    <tr>\n",
       "      <th>0</th>\n",
       "      <td>1951</td>\n",
       "      <td>Australia</td>\n",
       "      <td>Various/Unknown</td>\n",
       "      <td>Refugees (incl. refugee-like situations)</td>\n",
       "      <td>180000</td>\n",
       "    </tr>\n",
       "    <tr>\n",
       "      <th>1</th>\n",
       "      <td>1951</td>\n",
       "      <td>Austria</td>\n",
       "      <td>Various/Unknown</td>\n",
       "      <td>Refugees (incl. refugee-like situations)</td>\n",
       "      <td>282000</td>\n",
       "    </tr>\n",
       "    <tr>\n",
       "      <th>2</th>\n",
       "      <td>1951</td>\n",
       "      <td>Belgium</td>\n",
       "      <td>Various/Unknown</td>\n",
       "      <td>Refugees (incl. refugee-like situations)</td>\n",
       "      <td>55000</td>\n",
       "    </tr>\n",
       "    <tr>\n",
       "      <th>3</th>\n",
       "      <td>1951</td>\n",
       "      <td>Canada</td>\n",
       "      <td>Various/Unknown</td>\n",
       "      <td>Refugees (incl. refugee-like situations)</td>\n",
       "      <td>168511</td>\n",
       "    </tr>\n",
       "    <tr>\n",
       "      <th>4</th>\n",
       "      <td>1951</td>\n",
       "      <td>Switzerland</td>\n",
       "      <td>Various/Unknown</td>\n",
       "      <td>Refugees (incl. refugee-like situations)</td>\n",
       "      <td>10000</td>\n",
       "    </tr>\n",
       "    <tr>\n",
       "      <th>5</th>\n",
       "      <td>1951</td>\n",
       "      <td>Germany</td>\n",
       "      <td>Various/Unknown</td>\n",
       "      <td>Refugees (incl. refugee-like situations)</td>\n",
       "      <td>265000</td>\n",
       "    </tr>\n",
       "    <tr>\n",
       "      <th>6</th>\n",
       "      <td>1951</td>\n",
       "      <td>Denmark</td>\n",
       "      <td>Various/Unknown</td>\n",
       "      <td>Refugees (incl. refugee-like situations)</td>\n",
       "      <td>2000</td>\n",
       "    </tr>\n",
       "    <tr>\n",
       "      <th>7</th>\n",
       "      <td>1951</td>\n",
       "      <td>Spain</td>\n",
       "      <td>Various/Unknown</td>\n",
       "      <td>Refugees (incl. refugee-like situations)</td>\n",
       "      <td>2000</td>\n",
       "    </tr>\n",
       "    <tr>\n",
       "      <th>8</th>\n",
       "      <td>1951</td>\n",
       "      <td>France</td>\n",
       "      <td>Various/Unknown</td>\n",
       "      <td>Refugees (incl. refugee-like situations)</td>\n",
       "      <td>290000</td>\n",
       "    </tr>\n",
       "    <tr>\n",
       "      <th>9</th>\n",
       "      <td>1951</td>\n",
       "      <td>United Kingdom</td>\n",
       "      <td>Various/Unknown</td>\n",
       "      <td>Refugees (incl. refugee-like situations)</td>\n",
       "      <td>208000</td>\n",
       "    </tr>\n",
       "  </tbody>\n",
       "</table>\n",
       "</div>"
      ],
      "text/plain": [
       "   Year Country / territory of asylum/residence           Origin  \\\n",
       "0  1951                               Australia  Various/Unknown   \n",
       "1  1951                                 Austria  Various/Unknown   \n",
       "2  1951                                 Belgium  Various/Unknown   \n",
       "3  1951                                  Canada  Various/Unknown   \n",
       "4  1951                             Switzerland  Various/Unknown   \n",
       "5  1951                                 Germany  Various/Unknown   \n",
       "6  1951                                 Denmark  Various/Unknown   \n",
       "7  1951                                   Spain  Various/Unknown   \n",
       "8  1951                                  France  Various/Unknown   \n",
       "9  1951                          United Kingdom  Various/Unknown   \n",
       "\n",
       "                            Population type   Value  \n",
       "0  Refugees (incl. refugee-like situations)  180000  \n",
       "1  Refugees (incl. refugee-like situations)  282000  \n",
       "2  Refugees (incl. refugee-like situations)   55000  \n",
       "3  Refugees (incl. refugee-like situations)  168511  \n",
       "4  Refugees (incl. refugee-like situations)   10000  \n",
       "5  Refugees (incl. refugee-like situations)  265000  \n",
       "6  Refugees (incl. refugee-like situations)    2000  \n",
       "7  Refugees (incl. refugee-like situations)    2000  \n",
       "8  Refugees (incl. refugee-like situations)  290000  \n",
       "9  Refugees (incl. refugee-like situations)  208000  "
      ]
     },
     "execution_count": 30,
     "metadata": {},
     "output_type": "execute_result"
    }
   ],
   "source": [
    "refugees.head(10)"
   ]
  },
  {
   "cell_type": "code",
   "execution_count": 32,
   "metadata": {
    "collapsed": true
   },
   "outputs": [],
   "source": [
    "refugees.drop(['Country / territory of asylum/residence', 'Origin', 'Population type'],\n",
    "             axis = 1, inplace = True)"
   ]
  },
  {
   "cell_type": "code",
   "execution_count": 35,
   "metadata": {
    "collapsed": false
   },
   "outputs": [
    {
     "data": {
      "text/html": [
       "<div>\n",
       "<table border=\"1\" class=\"dataframe\">\n",
       "  <thead>\n",
       "    <tr style=\"text-align: right;\">\n",
       "      <th></th>\n",
       "      <th>Year</th>\n",
       "      <th>Value</th>\n",
       "    </tr>\n",
       "  </thead>\n",
       "  <tbody>\n",
       "    <tr>\n",
       "      <th>0</th>\n",
       "      <td>1951</td>\n",
       "      <td>180000</td>\n",
       "    </tr>\n",
       "    <tr>\n",
       "      <th>1</th>\n",
       "      <td>1951</td>\n",
       "      <td>282000</td>\n",
       "    </tr>\n",
       "    <tr>\n",
       "      <th>2</th>\n",
       "      <td>1951</td>\n",
       "      <td>55000</td>\n",
       "    </tr>\n",
       "    <tr>\n",
       "      <th>3</th>\n",
       "      <td>1951</td>\n",
       "      <td>168511</td>\n",
       "    </tr>\n",
       "    <tr>\n",
       "      <th>4</th>\n",
       "      <td>1951</td>\n",
       "      <td>10000</td>\n",
       "    </tr>\n",
       "  </tbody>\n",
       "</table>\n",
       "</div>"
      ],
      "text/plain": [
       "   Year   Value\n",
       "0  1951  180000\n",
       "1  1951  282000\n",
       "2  1951   55000\n",
       "3  1951  168511\n",
       "4  1951   10000"
      ]
     },
     "execution_count": 35,
     "metadata": {},
     "output_type": "execute_result"
    }
   ],
   "source": [
    "refugees.head()"
   ]
  },
  {
   "cell_type": "code",
   "execution_count": 43,
   "metadata": {
    "collapsed": true
   },
   "outputs": [],
   "source": [
    "refugees['Year'] = pd.to_numeric(refugees['Year'], errors='coerce')\n",
    "refugees['Value'] = pd.to_numeric(refugees['Value'], errors='coerce')"
   ]
  },
  {
   "cell_type": "code",
   "execution_count": 51,
   "metadata": {
    "collapsed": false
   },
   "outputs": [],
   "source": [
    "refugees = refugees.groupby('Year').sum()"
   ]
  },
  {
   "cell_type": "code",
   "execution_count": 55,
   "metadata": {
    "collapsed": false
   },
   "outputs": [],
   "source": [
    "refugees = refugees.reset_index()"
   ]
  },
  {
   "cell_type": "code",
   "execution_count": 61,
   "metadata": {
    "collapsed": true
   },
   "outputs": [],
   "source": [
    "merged = pd.merge(usa, refugees, on='Year')"
   ]
  },
  {
   "cell_type": "code",
   "execution_count": 63,
   "metadata": {
    "collapsed": false
   },
   "outputs": [],
   "source": [
    "merged['percentage'] = merged.USA_numbers / merged.Value"
   ]
  },
  {
   "cell_type": "code",
   "execution_count": 64,
   "metadata": {
    "collapsed": false
   },
   "outputs": [
    {
     "data": {
      "text/html": [
       "<div>\n",
       "<table border=\"1\" class=\"dataframe\">\n",
       "  <thead>\n",
       "    <tr style=\"text-align: right;\">\n",
       "      <th></th>\n",
       "      <th>Year</th>\n",
       "      <th>USA_numbers</th>\n",
       "      <th>Value</th>\n",
       "      <th>percentage</th>\n",
       "    </tr>\n",
       "  </thead>\n",
       "  <tbody>\n",
       "    <tr>\n",
       "      <th>0</th>\n",
       "      <td>1980</td>\n",
       "      <td>207116</td>\n",
       "      <td>8287287.0</td>\n",
       "      <td>0.024992</td>\n",
       "    </tr>\n",
       "    <tr>\n",
       "      <th>1</th>\n",
       "      <td>1981</td>\n",
       "      <td>159252</td>\n",
       "      <td>9611176.0</td>\n",
       "      <td>0.016569</td>\n",
       "    </tr>\n",
       "    <tr>\n",
       "      <th>2</th>\n",
       "      <td>1982</td>\n",
       "      <td>98096</td>\n",
       "      <td>10218319.0</td>\n",
       "      <td>0.009600</td>\n",
       "    </tr>\n",
       "    <tr>\n",
       "      <th>3</th>\n",
       "      <td>1983</td>\n",
       "      <td>61218</td>\n",
       "      <td>10519723.0</td>\n",
       "      <td>0.005819</td>\n",
       "    </tr>\n",
       "    <tr>\n",
       "      <th>4</th>\n",
       "      <td>1984</td>\n",
       "      <td>70393</td>\n",
       "      <td>10557306.0</td>\n",
       "      <td>0.006668</td>\n",
       "    </tr>\n",
       "    <tr>\n",
       "      <th>5</th>\n",
       "      <td>1985</td>\n",
       "      <td>67704</td>\n",
       "      <td>11699562.0</td>\n",
       "      <td>0.005787</td>\n",
       "    </tr>\n",
       "    <tr>\n",
       "      <th>6</th>\n",
       "      <td>1986</td>\n",
       "      <td>62146</td>\n",
       "      <td>12028574.0</td>\n",
       "      <td>0.005167</td>\n",
       "    </tr>\n",
       "    <tr>\n",
       "      <th>7</th>\n",
       "      <td>1987</td>\n",
       "      <td>64528</td>\n",
       "      <td>12668947.0</td>\n",
       "      <td>0.005093</td>\n",
       "    </tr>\n",
       "    <tr>\n",
       "      <th>8</th>\n",
       "      <td>1988</td>\n",
       "      <td>76483</td>\n",
       "      <td>14341431.0</td>\n",
       "      <td>0.005333</td>\n",
       "    </tr>\n",
       "    <tr>\n",
       "      <th>9</th>\n",
       "      <td>1989</td>\n",
       "      <td>107070</td>\n",
       "      <td>14726576.0</td>\n",
       "      <td>0.007271</td>\n",
       "    </tr>\n",
       "    <tr>\n",
       "      <th>10</th>\n",
       "      <td>1990</td>\n",
       "      <td>122066</td>\n",
       "      <td>17390695.0</td>\n",
       "      <td>0.007019</td>\n",
       "    </tr>\n",
       "    <tr>\n",
       "      <th>11</th>\n",
       "      <td>1991</td>\n",
       "      <td>113389</td>\n",
       "      <td>16848803.0</td>\n",
       "      <td>0.006730</td>\n",
       "    </tr>\n",
       "    <tr>\n",
       "      <th>12</th>\n",
       "      <td>1992</td>\n",
       "      <td>115548</td>\n",
       "      <td>17819063.0</td>\n",
       "      <td>0.006485</td>\n",
       "    </tr>\n",
       "    <tr>\n",
       "      <th>13</th>\n",
       "      <td>1993</td>\n",
       "      <td>114181</td>\n",
       "      <td>16325525.0</td>\n",
       "      <td>0.006994</td>\n",
       "    </tr>\n",
       "    <tr>\n",
       "      <th>14</th>\n",
       "      <td>1994</td>\n",
       "      <td>111680</td>\n",
       "      <td>15753691.0</td>\n",
       "      <td>0.007089</td>\n",
       "    </tr>\n",
       "    <tr>\n",
       "      <th>15</th>\n",
       "      <td>1995</td>\n",
       "      <td>98973</td>\n",
       "      <td>14896087.0</td>\n",
       "      <td>0.006644</td>\n",
       "    </tr>\n",
       "    <tr>\n",
       "      <th>16</th>\n",
       "      <td>1996</td>\n",
       "      <td>75421</td>\n",
       "      <td>13357087.0</td>\n",
       "      <td>0.005647</td>\n",
       "    </tr>\n",
       "    <tr>\n",
       "      <th>17</th>\n",
       "      <td>1997</td>\n",
       "      <td>69653</td>\n",
       "      <td>12015350.0</td>\n",
       "      <td>0.005797</td>\n",
       "    </tr>\n",
       "    <tr>\n",
       "      <th>18</th>\n",
       "      <td>1998</td>\n",
       "      <td>76712</td>\n",
       "      <td>11480860.0</td>\n",
       "      <td>0.006682</td>\n",
       "    </tr>\n",
       "    <tr>\n",
       "      <th>19</th>\n",
       "      <td>1999</td>\n",
       "      <td>85285</td>\n",
       "      <td>11687226.0</td>\n",
       "      <td>0.007297</td>\n",
       "    </tr>\n",
       "    <tr>\n",
       "      <th>20</th>\n",
       "      <td>2000</td>\n",
       "      <td>72165</td>\n",
       "      <td>12129572.0</td>\n",
       "      <td>0.005950</td>\n",
       "    </tr>\n",
       "    <tr>\n",
       "      <th>21</th>\n",
       "      <td>2001</td>\n",
       "      <td>68920</td>\n",
       "      <td>12116835.0</td>\n",
       "      <td>0.005688</td>\n",
       "    </tr>\n",
       "    <tr>\n",
       "      <th>22</th>\n",
       "      <td>2002</td>\n",
       "      <td>26785</td>\n",
       "      <td>10594055.0</td>\n",
       "      <td>0.002528</td>\n",
       "    </tr>\n",
       "    <tr>\n",
       "      <th>23</th>\n",
       "      <td>2003</td>\n",
       "      <td>28286</td>\n",
       "      <td>9592795.0</td>\n",
       "      <td>0.002949</td>\n",
       "    </tr>\n",
       "    <tr>\n",
       "      <th>24</th>\n",
       "      <td>2004</td>\n",
       "      <td>52840</td>\n",
       "      <td>9573397.0</td>\n",
       "      <td>0.005519</td>\n",
       "    </tr>\n",
       "    <tr>\n",
       "      <th>25</th>\n",
       "      <td>2005</td>\n",
       "      <td>53738</td>\n",
       "      <td>8661994.0</td>\n",
       "      <td>0.006204</td>\n",
       "    </tr>\n",
       "    <tr>\n",
       "      <th>26</th>\n",
       "      <td>2006</td>\n",
       "      <td>41094</td>\n",
       "      <td>9877703.0</td>\n",
       "      <td>0.004160</td>\n",
       "    </tr>\n",
       "    <tr>\n",
       "      <th>27</th>\n",
       "      <td>2007</td>\n",
       "      <td>48218</td>\n",
       "      <td>11390930.0</td>\n",
       "      <td>0.004233</td>\n",
       "    </tr>\n",
       "    <tr>\n",
       "      <th>28</th>\n",
       "      <td>2008</td>\n",
       "      <td>60107</td>\n",
       "      <td>10489812.0</td>\n",
       "      <td>0.005730</td>\n",
       "    </tr>\n",
       "    <tr>\n",
       "      <th>29</th>\n",
       "      <td>2009</td>\n",
       "      <td>74602</td>\n",
       "      <td>10396538.0</td>\n",
       "      <td>0.007176</td>\n",
       "    </tr>\n",
       "    <tr>\n",
       "      <th>30</th>\n",
       "      <td>2010</td>\n",
       "      <td>73293</td>\n",
       "      <td>10549681.0</td>\n",
       "      <td>0.006947</td>\n",
       "    </tr>\n",
       "    <tr>\n",
       "      <th>31</th>\n",
       "      <td>2011</td>\n",
       "      <td>56384</td>\n",
       "      <td>10404804.0</td>\n",
       "      <td>0.005419</td>\n",
       "    </tr>\n",
       "    <tr>\n",
       "      <th>32</th>\n",
       "      <td>2012</td>\n",
       "      <td>58179</td>\n",
       "      <td>10497957.0</td>\n",
       "      <td>0.005542</td>\n",
       "    </tr>\n",
       "    <tr>\n",
       "      <th>33</th>\n",
       "      <td>2013</td>\n",
       "      <td>69909</td>\n",
       "      <td>11699279.0</td>\n",
       "      <td>0.005975</td>\n",
       "    </tr>\n",
       "    <tr>\n",
       "      <th>34</th>\n",
       "      <td>2014</td>\n",
       "      <td>69975</td>\n",
       "      <td>14376295.0</td>\n",
       "      <td>0.004867</td>\n",
       "    </tr>\n",
       "    <tr>\n",
       "      <th>35</th>\n",
       "      <td>2015</td>\n",
       "      <td>69920</td>\n",
       "      <td>16117430.0</td>\n",
       "      <td>0.004338</td>\n",
       "    </tr>\n",
       "  </tbody>\n",
       "</table>\n",
       "</div>"
      ],
      "text/plain": [
       "    Year  USA_numbers       Value  percentage\n",
       "0   1980       207116   8287287.0    0.024992\n",
       "1   1981       159252   9611176.0    0.016569\n",
       "2   1982        98096  10218319.0    0.009600\n",
       "3   1983        61218  10519723.0    0.005819\n",
       "4   1984        70393  10557306.0    0.006668\n",
       "5   1985        67704  11699562.0    0.005787\n",
       "6   1986        62146  12028574.0    0.005167\n",
       "7   1987        64528  12668947.0    0.005093\n",
       "8   1988        76483  14341431.0    0.005333\n",
       "9   1989       107070  14726576.0    0.007271\n",
       "10  1990       122066  17390695.0    0.007019\n",
       "11  1991       113389  16848803.0    0.006730\n",
       "12  1992       115548  17819063.0    0.006485\n",
       "13  1993       114181  16325525.0    0.006994\n",
       "14  1994       111680  15753691.0    0.007089\n",
       "15  1995        98973  14896087.0    0.006644\n",
       "16  1996        75421  13357087.0    0.005647\n",
       "17  1997        69653  12015350.0    0.005797\n",
       "18  1998        76712  11480860.0    0.006682\n",
       "19  1999        85285  11687226.0    0.007297\n",
       "20  2000        72165  12129572.0    0.005950\n",
       "21  2001        68920  12116835.0    0.005688\n",
       "22  2002        26785  10594055.0    0.002528\n",
       "23  2003        28286   9592795.0    0.002949\n",
       "24  2004        52840   9573397.0    0.005519\n",
       "25  2005        53738   8661994.0    0.006204\n",
       "26  2006        41094   9877703.0    0.004160\n",
       "27  2007        48218  11390930.0    0.004233\n",
       "28  2008        60107  10489812.0    0.005730\n",
       "29  2009        74602  10396538.0    0.007176\n",
       "30  2010        73293  10549681.0    0.006947\n",
       "31  2011        56384  10404804.0    0.005419\n",
       "32  2012        58179  10497957.0    0.005542\n",
       "33  2013        69909  11699279.0    0.005975\n",
       "34  2014        69975  14376295.0    0.004867\n",
       "35  2015        69920  16117430.0    0.004338"
      ]
     },
     "execution_count": 64,
     "metadata": {},
     "output_type": "execute_result"
    }
   ],
   "source": [
    "merged"
   ]
  },
  {
   "cell_type": "code",
   "execution_count": null,
   "metadata": {
    "collapsed": true
   },
   "outputs": [],
   "source": []
  }
 ],
 "metadata": {
  "kernelspec": {
   "display_name": "Python [Root]",
   "language": "python",
   "name": "Python [Root]"
  },
  "language_info": {
   "codemirror_mode": {
    "name": "ipython",
    "version": 2
   },
   "file_extension": ".py",
   "mimetype": "text/x-python",
   "name": "python",
   "nbconvert_exporter": "python",
   "pygments_lexer": "ipython2",
   "version": "2.7.12"
  }
 },
 "nbformat": 4,
 "nbformat_minor": 0
}
