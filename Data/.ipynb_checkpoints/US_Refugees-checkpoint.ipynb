{
 "cells": [
  {
   "cell_type": "code",
   "execution_count": 91,
   "metadata": {
    "collapsed": true
   },
   "outputs": [],
   "source": [
    "import pandas as pd\n",
    "import geopandas as gpd\n",
    "import csv\n",
    "import os\n",
    "import sys\n",
    "import numpy as np\n",
    "import zipfile as zf"
   ]
  },
  {
   "cell_type": "code",
   "execution_count": 5,
   "metadata": {
    "collapsed": false
   },
   "outputs": [
    {
     "name": "stdout",
     "output_type": "stream",
     "text": [
      "  % Total    % Received % Xferd  Average Speed   Time    Time     Time  Current\n",
      "                                 Dload  Upload   Total   Spent    Left  Speed\n",
      "100  106k  100  106k    0     0   665k      0 --:--:-- --:--:-- --:--:-- 7106k\n"
     ]
    }
   ],
   "source": [
    "!curl -O 'https://www.dhs.gov/sites/default/files/publications/YRBK%202015%20RFA%20Excel%20Final.zip'"
   ]
  },
  {
   "cell_type": "code",
   "execution_count": 13,
   "metadata": {
    "collapsed": false
   },
   "outputs": [],
   "source": [
    "ref = zf.ZipFile('YRBK%202015%20RFA%20Excel%20Final.zip', 'r')\n",
    "ref.extractall()"
   ]
  },
  {
   "cell_type": "code",
   "execution_count": 112,
   "metadata": {
    "collapsed": true
   },
   "outputs": [],
   "source": [
    "df_refugees = pd.read_excel('YRBK 2015 RFA Excel Final/fy2015_table14d.xls', skiprows = 3)"
   ]
  },
  {
   "cell_type": "code",
   "execution_count": 114,
   "metadata": {
    "collapsed": false
   },
   "outputs": [
    {
     "data": {
      "text/html": [
       "<div>\n",
       "<table border=\"1\" class=\"dataframe\">\n",
       "  <thead>\n",
       "    <tr style=\"text-align: right;\">\n",
       "      <th></th>\n",
       "      <th>Region and country of nationality</th>\n",
       "      <th>2006</th>\n",
       "      <th>2007</th>\n",
       "      <th>2008</th>\n",
       "      <th>2009</th>\n",
       "      <th>2010</th>\n",
       "      <th>2011</th>\n",
       "      <th>2012</th>\n",
       "      <th>2013</th>\n",
       "      <th>2014</th>\n",
       "      <th>2015</th>\n",
       "    </tr>\n",
       "  </thead>\n",
       "  <tbody>\n",
       "    <tr>\n",
       "      <th>0</th>\n",
       "      <td>REGION</td>\n",
       "      <td>NaN</td>\n",
       "      <td>NaN</td>\n",
       "      <td>NaN</td>\n",
       "      <td>NaN</td>\n",
       "      <td>NaN</td>\n",
       "      <td>NaN</td>\n",
       "      <td>NaN</td>\n",
       "      <td>NaN</td>\n",
       "      <td>NaN</td>\n",
       "      <td>NaN</td>\n",
       "    </tr>\n",
       "    <tr>\n",
       "      <th>1</th>\n",
       "      <td>Total</td>\n",
       "      <td>41094</td>\n",
       "      <td>48218</td>\n",
       "      <td>60107</td>\n",
       "      <td>74602</td>\n",
       "      <td>73293</td>\n",
       "      <td>56384</td>\n",
       "      <td>58179</td>\n",
       "      <td>69909</td>\n",
       "      <td>69975</td>\n",
       "      <td>69920</td>\n",
       "    </tr>\n",
       "    <tr>\n",
       "      <th>2</th>\n",
       "      <td>Africa</td>\n",
       "      <td>18129</td>\n",
       "      <td>17486</td>\n",
       "      <td>8943</td>\n",
       "      <td>9678</td>\n",
       "      <td>13325</td>\n",
       "      <td>7693</td>\n",
       "      <td>10629</td>\n",
       "      <td>15984</td>\n",
       "      <td>17501</td>\n",
       "      <td>22492</td>\n",
       "    </tr>\n",
       "    <tr>\n",
       "      <th>3</th>\n",
       "      <td>Asia</td>\n",
       "      <td>10086</td>\n",
       "      <td>23564</td>\n",
       "      <td>44819</td>\n",
       "      <td>58309</td>\n",
       "      <td>52695</td>\n",
       "      <td>44583</td>\n",
       "      <td>44416</td>\n",
       "      <td>48840</td>\n",
       "      <td>47197</td>\n",
       "      <td>43115</td>\n",
       "    </tr>\n",
       "    <tr>\n",
       "      <th>4</th>\n",
       "      <td>Europe</td>\n",
       "      <td>9615</td>\n",
       "      <td>4192</td>\n",
       "      <td>2059</td>\n",
       "      <td>1693</td>\n",
       "      <td>1238</td>\n",
       "      <td>996</td>\n",
       "      <td>908</td>\n",
       "      <td>482</td>\n",
       "      <td>818</td>\n",
       "      <td>2164</td>\n",
       "    </tr>\n",
       "  </tbody>\n",
       "</table>\n",
       "</div>"
      ],
      "text/plain": [
       "  Region and country of nationality   2006   2007   2008   2009   2010   2011  \\\n",
       "0                            REGION    NaN    NaN    NaN    NaN    NaN    NaN   \n",
       "1                             Total  41094  48218  60107  74602  73293  56384   \n",
       "2                            Africa  18129  17486   8943   9678  13325   7693   \n",
       "3                              Asia  10086  23564  44819  58309  52695  44583   \n",
       "4                            Europe   9615   4192   2059   1693   1238    996   \n",
       "\n",
       "    2012   2013   2014   2015  \n",
       "0    NaN    NaN    NaN    NaN  \n",
       "1  58179  69909  69975  69920  \n",
       "2  10629  15984  17501  22492  \n",
       "3  44416  48840  47197  43115  \n",
       "4    908    482    818   2164  "
      ]
     },
     "execution_count": 114,
     "metadata": {},
     "output_type": "execute_result"
    }
   ],
   "source": [
    "df_refugees.head()"
   ]
  },
  {
   "cell_type": "code",
   "execution_count": 115,
   "metadata": {
    "collapsed": true
   },
   "outputs": [],
   "source": [
    "df_refugees.dropna(inplace = True)"
   ]
  },
  {
   "cell_type": "code",
   "execution_count": 116,
   "metadata": {
    "collapsed": false
   },
   "outputs": [],
   "source": [
    "df_refugees.replace('-', 0 ,inplace = True)"
   ]
  },
  {
   "cell_type": "code",
   "execution_count": 117,
   "metadata": {
    "collapsed": false
   },
   "outputs": [],
   "source": [
    "df_refugees.replace('D', 0, inplace = True)"
   ]
  },
  {
   "cell_type": "code",
   "execution_count": 118,
   "metadata": {
    "collapsed": false
   },
   "outputs": [],
   "source": [
    "df_refugees.replace('X', 0, inplace = True)"
   ]
  },
  {
   "cell_type": "code",
   "execution_count": 119,
   "metadata": {
    "collapsed": false
   },
   "outputs": [],
   "source": [
    "columns = list(np.arange(2006, 2016, 1))\n",
    "df_refugees[columns] = df_refugees[columns].apply(pd.to_numeric, errors = 'coerce')"
   ]
  },
  {
   "cell_type": "code",
   "execution_count": 120,
   "metadata": {
    "collapsed": false
   },
   "outputs": [],
   "source": [
    "# by continent\n",
    "continental = df_refugees[1:7]"
   ]
  },
  {
   "cell_type": "code",
   "execution_count": 121,
   "metadata": {
    "collapsed": true
   },
   "outputs": [],
   "source": [
    "country = df_refugees[7:]"
   ]
  },
  {
   "cell_type": "code",
   "execution_count": 123,
   "metadata": {
    "collapsed": false
   },
   "outputs": [
    {
     "data": {
      "text/html": [
       "<div>\n",
       "<table border=\"1\" class=\"dataframe\">\n",
       "  <thead>\n",
       "    <tr style=\"text-align: right;\">\n",
       "      <th></th>\n",
       "      <th>Region and country of nationality</th>\n",
       "      <th>2006</th>\n",
       "      <th>2007</th>\n",
       "      <th>2008</th>\n",
       "      <th>2009</th>\n",
       "      <th>2010</th>\n",
       "      <th>2011</th>\n",
       "      <th>2012</th>\n",
       "      <th>2013</th>\n",
       "      <th>2014</th>\n",
       "      <th>2015</th>\n",
       "    </tr>\n",
       "  </thead>\n",
       "  <tbody>\n",
       "    <tr>\n",
       "      <th>8</th>\n",
       "      <td>Unknown</td>\n",
       "      <td>0</td>\n",
       "      <td>0</td>\n",
       "      <td>9</td>\n",
       "      <td>65</td>\n",
       "      <td>1053</td>\n",
       "      <td>136</td>\n",
       "      <td>148</td>\n",
       "      <td>164</td>\n",
       "      <td>141</td>\n",
       "      <td>99</td>\n",
       "    </tr>\n",
       "    <tr>\n",
       "      <th>10</th>\n",
       "      <td>Total</td>\n",
       "      <td>41094</td>\n",
       "      <td>48218</td>\n",
       "      <td>60107</td>\n",
       "      <td>74602</td>\n",
       "      <td>73293</td>\n",
       "      <td>56384</td>\n",
       "      <td>58179</td>\n",
       "      <td>69909</td>\n",
       "      <td>69975</td>\n",
       "      <td>69920</td>\n",
       "    </tr>\n",
       "    <tr>\n",
       "      <th>11</th>\n",
       "      <td>Afghanistan</td>\n",
       "      <td>651</td>\n",
       "      <td>441</td>\n",
       "      <td>576</td>\n",
       "      <td>349</td>\n",
       "      <td>515</td>\n",
       "      <td>428</td>\n",
       "      <td>481</td>\n",
       "      <td>661</td>\n",
       "      <td>753</td>\n",
       "      <td>910</td>\n",
       "    </tr>\n",
       "    <tr>\n",
       "      <th>12</th>\n",
       "      <td>Angola</td>\n",
       "      <td>13</td>\n",
       "      <td>4</td>\n",
       "      <td>0</td>\n",
       "      <td>8</td>\n",
       "      <td>0</td>\n",
       "      <td>0</td>\n",
       "      <td>0</td>\n",
       "      <td>6</td>\n",
       "      <td>0</td>\n",
       "      <td>5</td>\n",
       "    </tr>\n",
       "    <tr>\n",
       "      <th>13</th>\n",
       "      <td>Armenia</td>\n",
       "      <td>87</td>\n",
       "      <td>29</td>\n",
       "      <td>9</td>\n",
       "      <td>4</td>\n",
       "      <td>0</td>\n",
       "      <td>15</td>\n",
       "      <td>8</td>\n",
       "      <td>3</td>\n",
       "      <td>10</td>\n",
       "      <td>49</td>\n",
       "    </tr>\n",
       "  </tbody>\n",
       "</table>\n",
       "</div>"
      ],
      "text/plain": [
       "   Region and country of nationality   2006   2007   2008   2009   2010  \\\n",
       "8                            Unknown      0      0      9     65   1053   \n",
       "10                             Total  41094  48218  60107  74602  73293   \n",
       "11                       Afghanistan    651    441    576    349    515   \n",
       "12                            Angola     13      4      0      8      0   \n",
       "13                           Armenia     87     29      9      4      0   \n",
       "\n",
       "     2011   2012   2013   2014   2015  \n",
       "8     136    148    164    141     99  \n",
       "10  56384  58179  69909  69975  69920  \n",
       "11    428    481    661    753    910  \n",
       "12      0      0      6      0      5  \n",
       "13     15      8      3     10     49  "
      ]
     },
     "execution_count": 123,
     "metadata": {},
     "output_type": "execute_result"
    }
   ],
   "source": [
    "country.head()"
   ]
  },
  {
   "cell_type": "code",
   "execution_count": 127,
   "metadata": {
    "collapsed": false
   },
   "outputs": [],
   "source": [
    "from sklearn.cluster import KMeans"
   ]
  },
  {
   "cell_type": "code",
   "execution_count": 129,
   "metadata": {
    "collapsed": false
   },
   "outputs": [],
   "source": [
    "clusters = KMeans(5).fit(country[columns][11:])"
   ]
  },
  {
   "cell_type": "code",
   "execution_count": 130,
   "metadata": {
    "collapsed": false
   },
   "outputs": [
    {
     "data": {
      "text/plain": [
       "KMeans(copy_x=True, init='k-means++', max_iter=300, n_clusters=5, n_init=10,\n",
       "    n_jobs=1, precompute_distances='auto', random_state=None, tol=0.0001,\n",
       "    verbose=0)"
      ]
     },
     "execution_count": 130,
     "metadata": {},
     "output_type": "execute_result"
    }
   ],
   "source": []
  },
  {
   "cell_type": "code",
   "execution_count": 58,
   "metadata": {
    "collapsed": false
   },
   "outputs": [],
   "source": [
    "df_state = pd.read_excel('refugees_by_state.xlsx')"
   ]
  },
  {
   "cell_type": "code",
   "execution_count": 59,
   "metadata": {
    "collapsed": false
   },
   "outputs": [
    {
     "data": {
      "text/html": [
       "<div>\n",
       "<table border=\"1\" class=\"dataframe\">\n",
       "  <thead>\n",
       "    <tr style=\"text-align: right;\">\n",
       "      <th></th>\n",
       "      <th>STATE</th>\n",
       "      <th>AFGHANISTAN</th>\n",
       "      <th>ANGOLA</th>\n",
       "      <th>ARMENIA</th>\n",
       "      <th>AZERBAIJAN</th>\n",
       "      <th>BAHAMAS</th>\n",
       "      <th>BANGLADESH</th>\n",
       "      <th>BELARUS</th>\n",
       "      <th>BHUTAN</th>\n",
       "      <th>BOTSWANA</th>\n",
       "      <th>...</th>\n",
       "      <th>TURKEY</th>\n",
       "      <th>TURKMENISTAN</th>\n",
       "      <th>UGANDA</th>\n",
       "      <th>UKRAINE</th>\n",
       "      <th>UNITED KINGDOM</th>\n",
       "      <th>UZBEKISTAN</th>\n",
       "      <th>VIETNAM</th>\n",
       "      <th>YEMEN</th>\n",
       "      <th>ZIMBABWE</th>\n",
       "      <th>GRAND TOTAL</th>\n",
       "    </tr>\n",
       "  </thead>\n",
       "  <tbody>\n",
       "    <tr>\n",
       "      <th>0</th>\n",
       "      <td>ALABAMA</td>\n",
       "      <td>0</td>\n",
       "      <td>0</td>\n",
       "      <td>0</td>\n",
       "      <td>0</td>\n",
       "      <td>0</td>\n",
       "      <td>0</td>\n",
       "      <td>0</td>\n",
       "      <td>0</td>\n",
       "      <td>0</td>\n",
       "      <td>...</td>\n",
       "      <td>0</td>\n",
       "      <td>0</td>\n",
       "      <td>0</td>\n",
       "      <td>0</td>\n",
       "      <td>0</td>\n",
       "      <td>0</td>\n",
       "      <td>0</td>\n",
       "      <td>0</td>\n",
       "      <td>0</td>\n",
       "      <td>105</td>\n",
       "    </tr>\n",
       "    <tr>\n",
       "      <th>1</th>\n",
       "      <td>ALASKA</td>\n",
       "      <td>0</td>\n",
       "      <td>0</td>\n",
       "      <td>0</td>\n",
       "      <td>0</td>\n",
       "      <td>0</td>\n",
       "      <td>0</td>\n",
       "      <td>0</td>\n",
       "      <td>3</td>\n",
       "      <td>0</td>\n",
       "      <td>...</td>\n",
       "      <td>0</td>\n",
       "      <td>0</td>\n",
       "      <td>0</td>\n",
       "      <td>7</td>\n",
       "      <td>0</td>\n",
       "      <td>1</td>\n",
       "      <td>0</td>\n",
       "      <td>0</td>\n",
       "      <td>0</td>\n",
       "      <td>146</td>\n",
       "    </tr>\n",
       "    <tr>\n",
       "      <th>2</th>\n",
       "      <td>ARIZONA</td>\n",
       "      <td>37</td>\n",
       "      <td>0</td>\n",
       "      <td>0</td>\n",
       "      <td>0</td>\n",
       "      <td>0</td>\n",
       "      <td>0</td>\n",
       "      <td>0</td>\n",
       "      <td>56</td>\n",
       "      <td>0</td>\n",
       "      <td>...</td>\n",
       "      <td>2</td>\n",
       "      <td>0</td>\n",
       "      <td>0</td>\n",
       "      <td>0</td>\n",
       "      <td>0</td>\n",
       "      <td>0</td>\n",
       "      <td>0</td>\n",
       "      <td>0</td>\n",
       "      <td>0</td>\n",
       "      <td>3133</td>\n",
       "    </tr>\n",
       "    <tr>\n",
       "      <th>3</th>\n",
       "      <td>ARKANSAS</td>\n",
       "      <td>0</td>\n",
       "      <td>0</td>\n",
       "      <td>0</td>\n",
       "      <td>0</td>\n",
       "      <td>0</td>\n",
       "      <td>0</td>\n",
       "      <td>0</td>\n",
       "      <td>0</td>\n",
       "      <td>0</td>\n",
       "      <td>...</td>\n",
       "      <td>0</td>\n",
       "      <td>0</td>\n",
       "      <td>0</td>\n",
       "      <td>0</td>\n",
       "      <td>0</td>\n",
       "      <td>0</td>\n",
       "      <td>0</td>\n",
       "      <td>0</td>\n",
       "      <td>0</td>\n",
       "      <td>13</td>\n",
       "    </tr>\n",
       "    <tr>\n",
       "      <th>4</th>\n",
       "      <td>CALIFORNIA</td>\n",
       "      <td>215</td>\n",
       "      <td>0</td>\n",
       "      <td>46</td>\n",
       "      <td>0</td>\n",
       "      <td>0</td>\n",
       "      <td>1</td>\n",
       "      <td>29</td>\n",
       "      <td>16</td>\n",
       "      <td>0</td>\n",
       "      <td>...</td>\n",
       "      <td>0</td>\n",
       "      <td>0</td>\n",
       "      <td>14</td>\n",
       "      <td>313</td>\n",
       "      <td>0</td>\n",
       "      <td>10</td>\n",
       "      <td>3</td>\n",
       "      <td>1</td>\n",
       "      <td>0</td>\n",
       "      <td>5718</td>\n",
       "    </tr>\n",
       "  </tbody>\n",
       "</table>\n",
       "<p>5 rows × 81 columns</p>\n",
       "</div>"
      ],
      "text/plain": [
       "        STATE  AFGHANISTAN  ANGOLA  ARMENIA  AZERBAIJAN  BAHAMAS  BANGLADESH  \\\n",
       "0     ALABAMA            0       0        0           0        0           0   \n",
       "1      ALASKA            0       0        0           0        0           0   \n",
       "2     ARIZONA           37       0        0           0        0           0   \n",
       "3    ARKANSAS            0       0        0           0        0           0   \n",
       "4  CALIFORNIA          215       0       46           0        0           1   \n",
       "\n",
       "   BELARUS  BHUTAN  BOTSWANA     ...       TURKEY  TURKMENISTAN  UGANDA  \\\n",
       "0        0       0         0     ...            0             0       0   \n",
       "1        0       3         0     ...            0             0       0   \n",
       "2        0      56         0     ...            2             0       0   \n",
       "3        0       0         0     ...            0             0       0   \n",
       "4       29      16         0     ...            0             0      14   \n",
       "\n",
       "   UKRAINE  UNITED KINGDOM  UZBEKISTAN  VIETNAM  YEMEN  ZIMBABWE  GRAND TOTAL  \n",
       "0        0               0           0        0      0         0          105  \n",
       "1        7               0           1        0      0         0          146  \n",
       "2        0               0           0        0      0         0         3133  \n",
       "3        0               0           0        0      0         0           13  \n",
       "4      313               0          10        3      1         0         5718  \n",
       "\n",
       "[5 rows x 81 columns]"
      ]
     },
     "execution_count": 59,
     "metadata": {},
     "output_type": "execute_result"
    }
   ],
   "source": [
    "df_state.head()"
   ]
  },
  {
   "cell_type": "code",
   "execution_count": 62,
   "metadata": {
    "collapsed": false
   },
   "outputs": [],
   "source": [
    "import shapely"
   ]
  },
  {
   "cell_type": "code",
   "execution_count": 63,
   "metadata": {
    "collapsed": false
   },
   "outputs": [
    {
     "name": "stdout",
     "output_type": "stream",
     "text": [
      "  % Total    % Received % Xferd  Average Speed   Time    Time     Time  Current\n",
      "                                 Dload  Upload   Total   Spent    Left  Speed\n",
      "100  973k  100  973k    0     0   334k      0  0:00:02  0:00:02 --:--:--  338k\n"
     ]
    }
   ],
   "source": [
    "!curl -O 'http://www2.census.gov/geo/tiger/GENZ2015/shp/cb_2015_us_state_5m.zip'"
   ]
  },
  {
   "cell_type": "code",
   "execution_count": 64,
   "metadata": {
    "collapsed": true
   },
   "outputs": [],
   "source": [
    "ref = zf.ZipFile('cb_2015_us_state_5m.zip', 'r')\n",
    "ref.extractall('US_Shapefiles')"
   ]
  },
  {
   "cell_type": "code",
   "execution_count": null,
   "metadata": {
    "collapsed": true
   },
   "outputs": [],
   "source": []
  }
 ],
 "metadata": {
  "kernelspec": {
   "display_name": "Python [Root]",
   "language": "python",
   "name": "Python [Root]"
  },
  "language_info": {
   "codemirror_mode": {
    "name": "ipython",
    "version": 2
   },
   "file_extension": ".py",
   "mimetype": "text/x-python",
   "name": "python",
   "nbconvert_exporter": "python",
   "pygments_lexer": "ipython2",
   "version": "2.7.12"
  }
 },
 "nbformat": 4,
 "nbformat_minor": 0
}
