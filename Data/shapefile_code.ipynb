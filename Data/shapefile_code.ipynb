{
 "cells": [
  {
   "cell_type": "code",
   "execution_count": 1,
   "metadata": {
    "collapsed": false
   },
   "outputs": [
    {
     "name": "stdout",
     "output_type": "stream",
     "text": [
      "Populating the interactive namespace from numpy and matplotlib\n"
     ]
    }
   ],
   "source": [
    "import pandas as pd\n",
    "import geopandas as gpd\n",
    "import csv\n",
    "import os\n",
    "import sys\n",
    "import numpy as np\n",
    "import zipfile as zf\n",
    "import pylab as pl\n",
    "from fiona.crs import from_epsg\n",
    "% pylab inline"
   ]
  },
  {
   "cell_type": "code",
   "execution_count": 2,
   "metadata": {
    "collapsed": false
   },
   "outputs": [
    {
     "name": "stdout",
     "output_type": "stream",
     "text": [
      "  % Total    % Received % Xferd  Average Speed   Time    Time     Time  Current\n",
      "                                 Dload  Upload   Total   Spent    Left  Speed\n",
      "100  973k  100  973k    0     0  5171k      0 --:--:-- --:--:-- --:--:-- 6044k\n"
     ]
    }
   ],
   "source": [
    "!curl -O 'http://www2.census.gov/geo/tiger/GENZ2015/shp/cb_2015_us_state_5m.zip'\n",
    "ref = zf.ZipFile('cb_2015_us_state_5m.zip', 'r')\n",
    "ref.extractall('US_Shapefiles')\n",
    "US_shape = gpd.GeoDataFrame.from_file('US_Shapefiles/cb_2015_us_state_5m.shp')"
   ]
  },
  {
   "cell_type": "code",
   "execution_count": null,
   "metadata": {
    "collapsed": true
   },
   "outputs": [],
   "source": [
    "worldshape = gpd.GeoDataFrame.from_file('TM_WORLD_BORDERS-0.3.shp')\n",
    "\n",
    "f, ax = pl.subplots(figsize=(55,15))\n",
    "\n",
    "#USstates.plot(c = 'k', linewidth = .5, ax = ax,  color= 'Green', label = 'parks')\n",
    "worldshape.plot(c = 'k', linewidth = .5, ax = ax,  color= 'Blue', label = 'parks')\n",
    "pl.axis('off')\n",
    "#ticks = ax.set_xticklabels(ax.get_xticklabels(), rotation = 90)\n",
    "pl.title(\"world\", size=20)"
   ]
  }
 ],
 "metadata": {
  "kernelspec": {
   "display_name": "Python 2",
   "language": "python",
   "name": "python2"
  },
  "language_info": {
   "codemirror_mode": {
    "name": "ipython",
    "version": 2
   },
   "file_extension": ".py",
   "mimetype": "text/x-python",
   "name": "python",
   "nbconvert_exporter": "python",
   "pygments_lexer": "ipython2",
   "version": "2.7.11"
  }
 },
 "nbformat": 4,
 "nbformat_minor": 0
}
