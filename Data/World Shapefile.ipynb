{
 "cells": [
  {
   "cell_type": "code",
   "execution_count": 1,
   "metadata": {
    "collapsed": true
   },
   "outputs": [],
   "source": [
    "import zipfile\n",
    "%matplotlib inline\n",
    "import numpy as np\n",
    "import ast\n",
    "import json\n",
    "import urllib\n",
    "import urllib2\n",
    "from cStringIO import StringIO\n",
    "import pandas as pd\n",
    "import requests\n",
    "import os\n",
    "import geopandas as gpd\n",
    "import matplotlib.pylab as pl\n",
    "from fiona.crs import from_epsg\n",
    "import fiona\n",
    "import matplotlib.pylab as pl\n",
    "from matplotlib import colors\n",
    "import shapely\n",
    "import seaborn as sns"
   ]
  },
  {
   "cell_type": "code",
   "execution_count": null,
   "metadata": {
    "collapsed": false
   },
   "outputs": [],
   "source": [
    "fileUrl = 'http://thematicmapping.org/downloads/TM_WORLD_BORDERS-0.3.zip'\n",
    "filebuffer = urllib.urlretrieve(fileUrl, filename='TM_WORLD_BORDERS_SIMPL-0.3.zip')\n",
    "os.system(\"unzip \" + \"TM_WORLD_BORDERS_SIMPL-0.3.zip\")"
   ]
  },
  {
   "cell_type": "code",
   "execution_count": 5,
   "metadata": {
    "collapsed": false
   },
   "outputs": [
    {
     "name": "stdout",
     "output_type": "stream",
     "text": [
      "TM_WORLD_BORDERS-0.3.shp\n"
     ]
    }
   ],
   "source": [
    "fname = str(zipfile.ZipFile(\"TM_WORLD_BORDERS-0.3.zip\").namelist()[3])\n",
    "print fname\n",
    "world = gpd.GeoDataFrame.from_file(fname)\n",
    "\n",
    "\n"
   ]
  },
  {
   "cell_type": "code",
   "execution_count": 7,
   "metadata": {
    "collapsed": false
   },
   "outputs": [
    {
     "name": "stdout",
     "output_type": "stream",
     "text": [
      "{'init': u'epsg:4326'}\n"
     ]
    },
    {
     "data": {
      "text/html": [
       "<div>\n",
       "<table border=\"1\" class=\"dataframe\">\n",
       "  <thead>\n",
       "    <tr style=\"text-align: right;\">\n",
       "      <th></th>\n",
       "      <th>AREA</th>\n",
       "      <th>FIPS</th>\n",
       "      <th>ISO2</th>\n",
       "      <th>ISO3</th>\n",
       "      <th>LAT</th>\n",
       "      <th>LON</th>\n",
       "      <th>NAME</th>\n",
       "      <th>POP2005</th>\n",
       "      <th>REGION</th>\n",
       "      <th>SUBREGION</th>\n",
       "      <th>UN</th>\n",
       "      <th>geometry</th>\n",
       "    </tr>\n",
       "  </thead>\n",
       "  <tbody>\n",
       "    <tr>\n",
       "      <th>0</th>\n",
       "      <td>44</td>\n",
       "      <td>AC</td>\n",
       "      <td>AG</td>\n",
       "      <td>ATG</td>\n",
       "      <td>17.078</td>\n",
       "      <td>-61.783</td>\n",
       "      <td>Antigua and Barbuda</td>\n",
       "      <td>83039</td>\n",
       "      <td>19</td>\n",
       "      <td>29</td>\n",
       "      <td>28</td>\n",
       "      <td>(POLYGON ((-61.686668 17.02444100000014, -61.7...</td>\n",
       "    </tr>\n",
       "    <tr>\n",
       "      <th>1</th>\n",
       "      <td>238174</td>\n",
       "      <td>AG</td>\n",
       "      <td>DZ</td>\n",
       "      <td>DZA</td>\n",
       "      <td>28.163</td>\n",
       "      <td>2.632</td>\n",
       "      <td>Algeria</td>\n",
       "      <td>32854159</td>\n",
       "      <td>2</td>\n",
       "      <td>15</td>\n",
       "      <td>12</td>\n",
       "      <td>POLYGON ((2.96361 36.802216, 2.981389 36.80693...</td>\n",
       "    </tr>\n",
       "    <tr>\n",
       "      <th>2</th>\n",
       "      <td>8260</td>\n",
       "      <td>AJ</td>\n",
       "      <td>AZ</td>\n",
       "      <td>AZE</td>\n",
       "      <td>40.430</td>\n",
       "      <td>47.395</td>\n",
       "      <td>Azerbaijan</td>\n",
       "      <td>8352021</td>\n",
       "      <td>142</td>\n",
       "      <td>145</td>\n",
       "      <td>31</td>\n",
       "      <td>(POLYGON ((45.08332100000001 39.76804400000015...</td>\n",
       "    </tr>\n",
       "    <tr>\n",
       "      <th>3</th>\n",
       "      <td>2740</td>\n",
       "      <td>AL</td>\n",
       "      <td>AL</td>\n",
       "      <td>ALB</td>\n",
       "      <td>41.143</td>\n",
       "      <td>20.068</td>\n",
       "      <td>Albania</td>\n",
       "      <td>3153731</td>\n",
       "      <td>150</td>\n",
       "      <td>39</td>\n",
       "      <td>8</td>\n",
       "      <td>POLYGON ((19.436214 41.021065, 19.450554 41.05...</td>\n",
       "    </tr>\n",
       "    <tr>\n",
       "      <th>4</th>\n",
       "      <td>2820</td>\n",
       "      <td>AM</td>\n",
       "      <td>AM</td>\n",
       "      <td>ARM</td>\n",
       "      <td>40.534</td>\n",
       "      <td>44.563</td>\n",
       "      <td>Armenia</td>\n",
       "      <td>3017661</td>\n",
       "      <td>142</td>\n",
       "      <td>145</td>\n",
       "      <td>51</td>\n",
       "      <td>(POLYGON ((45.57305100000014 40.63248800000008...</td>\n",
       "    </tr>\n",
       "  </tbody>\n",
       "</table>\n",
       "</div>"
      ],
      "text/plain": [
       "     AREA FIPS ISO2 ISO3     LAT     LON                 NAME   POP2005  \\\n",
       "0      44   AC   AG  ATG  17.078 -61.783  Antigua and Barbuda     83039   \n",
       "1  238174   AG   DZ  DZA  28.163   2.632              Algeria  32854159   \n",
       "2    8260   AJ   AZ  AZE  40.430  47.395           Azerbaijan   8352021   \n",
       "3    2740   AL   AL  ALB  41.143  20.068              Albania   3153731   \n",
       "4    2820   AM   AM  ARM  40.534  44.563              Armenia   3017661   \n",
       "\n",
       "   REGION  SUBREGION  UN                                           geometry  \n",
       "0      19         29  28  (POLYGON ((-61.686668 17.02444100000014, -61.7...  \n",
       "1       2         15  12  POLYGON ((2.96361 36.802216, 2.981389 36.80693...  \n",
       "2     142        145  31  (POLYGON ((45.08332100000001 39.76804400000015...  \n",
       "3     150         39   8  POLYGON ((19.436214 41.021065, 19.450554 41.05...  \n",
       "4     142        145  51  (POLYGON ((45.57305100000014 40.63248800000008...  "
      ]
     },
     "execution_count": 7,
     "metadata": {},
     "output_type": "execute_result"
    }
   ],
   "source": [
    "print world.crs\n",
    "world.head()\n"
   ]
  },
  {
   "cell_type": "markdown",
   "metadata": {
    "collapsed": false
   },
   "source": [
    "!ls TM_WORLD_BORDERS_SIMPL-0.3/TM_WORLD_BORDERS-0.3.shp\n"
   ]
  },
  {
   "cell_type": "code",
   "execution_count": null,
   "metadata": {
    "collapsed": true
   },
   "outputs": [],
   "source": [
    "f, ax = pl.subplots(figsize=(55,15))\n",
    "\n",
    "USstates.plot(c = 'k', linewidth = .5, ax = ax,  color= 'Green', label = 'parks')\n",
    "Wolrdshape.plot(c = 'k', linewidth = .5, ax = ax,  color= 'Blue', label = 'parks')\n",
    "pl.axis('off')\n",
    "ticks = ax.set_xticklabels(ax.get_xticklabels(), rotation = 90)\n",
    "pl.title(\"world\", size=20)"
   ]
  }
 ],
 "metadata": {
  "kernelspec": {
   "display_name": "Python [Root]",
   "language": "python",
   "name": "Python [Root]"
  },
  "language_info": {
   "codemirror_mode": {
    "name": "ipython",
    "version": 2
   },
   "file_extension": ".py",
   "mimetype": "text/x-python",
   "name": "python",
   "nbconvert_exporter": "python",
   "pygments_lexer": "ipython2",
   "version": "2.7.12"
  }
 },
 "nbformat": 4,
 "nbformat_minor": 0
}
